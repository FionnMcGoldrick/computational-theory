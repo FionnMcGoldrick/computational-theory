{
 "cells": [
  {
   "cell_type": "code",
   "execution_count": 4,
   "id": "4af9fdac",
   "metadata": {},
   "outputs": [],
   "source": [
    "import numpy as np"
   ]
  },
  {
   "cell_type": "markdown",
   "id": "c16a5d62",
   "metadata": {},
   "source": [
    "# Problem 2\n",
    "- - -\n",
    "## Question To Solve: \n",
    "\n",
    "Use **numpy** to calculate the constants listed at the bottom of page 11 of the **Secure Hash Standard**, following the steps below. These are the first `32 bits` of the fractional parts of the cube roots of the first 64 prime numbers.\n",
    "\n",
    "1. Write a function called ``primes(n)`` that generates the **first n prime numbers**.\n",
    "\n",
    "1. Use the function to **calculate the cube root of the first** ``64 primes``.\n",
    "\n",
    "1. For each **cube root, extract the first ``32 bits`` of the fractional part**.\n",
    "\n",
    "1. Display the result in **hexadecimal**.\n",
    "\n",
    "1. Test the results against what is in the **Secure Hash Standard**."
   ]
  },
  {
   "cell_type": "code",
   "execution_count": null,
   "id": "8b0f54f8",
   "metadata": {},
   "outputs": [],
   "source": [
    "def primes(n):\n",
    "    \"\"\"\n",
    "    Generate the first n prime numbers using a trial division algorithm.\n",
    "    \n",
    "    This function implements a simple primality (checking if a number is prime or not) test\n",
    "    by checking if each candidate number is divisible by any previously found prime numbers.\n",
    "    It continues until the requested number of primes have been found.\n",
    "    \n",
    "    Algorithm:\n",
    "    ----------\n",
    "    1. Initialize an empty list to store prime numbers found\n",
    "    2. Start with the first prime number (2)\n",
    "    3. For each candidate number, check if it's divisible by any existing primes\n",
    "    4. If divisible by any prime, it's not prime - move to next candidate\n",
    "    5. If not divisible by any prime, it is prime - add to the list\n",
    "    6. Repeat until we have found n prime numbers\n",
    "    \n",
    "    Time Complexity: O(n²)\n",
    "    Space Complexity: O(n)\n",
    "\n",
    "    Parameters\n",
    "    ----------\n",
    "    n : int\n",
    "        The number of prime numbers to generate.\n",
    "\n",
    "    Returns\n",
    "    -------\n",
    "    numpy.ndarray\n",
    "        An array containing the first n prime numbers.\n",
    "    \n",
    "    Examples\n",
    "    --------\n",
    "    >>> primes(5)\n",
    "    array([2, 3, 5, 7, 11])\n",
    "\n",
    "    \"\"\"\n",
    "\n",
    "    primes = []\n",
    "    cuberoots = [] # Store cube roots of found primes\n",
    "    num = 2\n",
    "    \n",
    "    while len(primes) < n:\n",
    "        for p in primes:\n",
    "            if num % p == 0:\n",
    "                break\n",
    "        else:\n",
    "            #cuberoot = round(num ** (1/3), 10) #rounded cube root of num\n",
    "            cuberoot = num ** (1/3) #cube root of num\n",
    "            cuberoots.append(cuberoot)\n",
    "            primes.append(num)\n",
    "        num += 1\n",
    "            \n",
    "    return np.array(primes)\n"
   ]
  },
  {
   "cell_type": "code",
   "execution_count": 9,
   "id": "96cef98a",
   "metadata": {},
   "outputs": [
    {
     "data": {
      "text/plain": [
       "array([  2,   3,   5,   7,  11,  13,  17,  19,  23,  29,  31,  37,  41,\n",
       "        43,  47,  53,  59,  61,  67,  71,  73,  79,  83,  89,  97, 101,\n",
       "       103, 107, 109, 113, 127, 131, 137, 139, 149, 151, 157, 163, 167,\n",
       "       173, 179, 181, 191, 193, 197, 199, 211, 223, 227, 229, 233, 239,\n",
       "       241, 251, 257, 263, 269, 271, 277, 281, 283, 293, 307, 311])"
      ]
     },
     "execution_count": 9,
     "metadata": {},
     "output_type": "execute_result"
    }
   ],
   "source": [
    "primes(64)"
   ]
  }
 ],
 "metadata": {
  "kernelspec": {
   "display_name": "Python 3",
   "language": "python",
   "name": "python3"
  },
  "language_info": {
   "codemirror_mode": {
    "name": "ipython",
    "version": 3
   },
   "file_extension": ".py",
   "mimetype": "text/x-python",
   "name": "python",
   "nbconvert_exporter": "python",
   "pygments_lexer": "ipython3",
   "version": "3.13.7"
  }
 },
 "nbformat": 4,
 "nbformat_minor": 5
}
