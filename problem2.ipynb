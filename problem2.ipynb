{
 "cells": [
  {
   "cell_type": "code",
   "execution_count": 17,
   "id": "4af9fdac",
   "metadata": {},
   "outputs": [],
   "source": [
    "import numpy as np"
   ]
  },
  {
   "cell_type": "markdown",
   "id": "c16a5d62",
   "metadata": {},
   "source": [
    "# Problem 2\n",
    "- - -\n",
    "## Question To Solve: \n",
    "\n",
    "Use **numpy** to calculate the constants listed at the bottom of page 11 of the **Secure Hash Standard**, following the steps below. These are the first `32 bits` of the fractional parts of the cube roots of the first 64 prime numbers.\n",
    "\n",
    "1. Write a function called ``primes(n)`` that generates the **first n prime numbers**.\n",
    "\n",
    "1. Use the function to **calculate the cube root of the first** ``64 primes``.\n",
    "\n",
    "1. For each **cube root, extract the first ``32 bits`` of the fractional part**.\n",
    "\n",
    "1. Display the result in **hexadecimal**.\n",
    "\n",
    "1. Test the results against what is in the **Secure Hash Standard**."
   ]
  },
  {
   "cell_type": "code",
   "execution_count": null,
   "id": "8b0f54f8",
   "metadata": {},
   "outputs": [],
   "source": [
    "def primes(n):\n",
    "    primes = [] # empty array to store prime numbers found\n",
    "    num = 2 # first prime\n",
    "    \n",
    "    while len(primes) < n: # fill empty prime array until it reaches length of n (amount of primes requested)\n",
    "        \n",
    "        for p in primes: # check if any prime number in primes[] divides into it equally.\n",
    "            if num % p == 0: # if true, break (not prime)\n",
    "                break\n",
    "            \n",
    "        else:\n",
    "            primes.append(num) # if false, add num to primes[] (is prime). \n",
    "                \n",
    "        num += 1 # next number to check.\n",
    "            \n",
    "    return np.array(primes)\n",
    "                \n",
    "    "
   ]
  },
  {
   "cell_type": "code",
   "execution_count": 22,
   "id": "96cef98a",
   "metadata": {},
   "outputs": [
    {
     "data": {
      "text/plain": [
       "array([ 2,  3,  5,  7, 11])"
      ]
     },
     "execution_count": 22,
     "metadata": {},
     "output_type": "execute_result"
    }
   ],
   "source": [
    "primes(5)"
   ]
  }
 ],
 "metadata": {
  "kernelspec": {
   "display_name": ".venv (3.13.7)",
   "language": "python",
   "name": "python3"
  },
  "language_info": {
   "codemirror_mode": {
    "name": "ipython",
    "version": 3
   },
   "file_extension": ".py",
   "mimetype": "text/x-python",
   "name": "python",
   "nbconvert_exporter": "python",
   "pygments_lexer": "ipython3",
   "version": "3.13.7"
  }
 },
 "nbformat": 4,
 "nbformat_minor": 5
}
