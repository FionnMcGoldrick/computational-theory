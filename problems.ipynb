{
 "cells": [
  {
   "cell_type": "markdown",
   "id": "4362ce2e",
   "metadata": {},
   "source": [
    "# Computation Theory"
   ]
  },
  {
   "cell_type": "code",
   "execution_count": null,
   "id": "5ec5b149",
   "metadata": {},
   "outputs": [],
   "source": [
    "#imports\n",
    "\n",
    "import numpy as np"
   ]
  },
  {
   "cell_type": "markdown",
   "id": "2daa842d",
   "metadata": {},
   "source": [
    "### Problem 1: Binary Words and Operations"
   ]
  },
  {
   "cell_type": "markdown",
   "id": "9ffcba3a",
   "metadata": {},
   "source": [
    "Parity, Choose, Majority Functions"
   ]
  },
  {
   "cell_type": "code",
   "execution_count": null,
   "id": "6a24b379",
   "metadata": {},
   "outputs": [],
   "source": [
    "def Parity(x,y,z):\n",
    "    \"\"\"\n",
    "    function takes in three parameters x,y,z (integers).\n",
    "    Converts them to 32-bit unsigned integers\n",
    "    returns the bitwise XOR of the three values.\n",
    "\n",
    "    Args:\n",
    "        x (int): first integer input\n",
    "        y (int): second integer input\n",
    "        z (int): third integer input\n",
    "\n",
    "    Returns:\n",
    "        int: bitwise XOR of x, y, and z as a 32-bit unsigned integer\n",
    "\n",
    "    \"\"\"\n",
    "    x = np.uint32(x)\n",
    "    y = np.uint32(y)\n",
    "    z = np.uint32(z)\n",
    "\n",
    "    return np.uint32(x ^ y ^ z)\n",
    "\n",
    "\n",
    "def Choose(x,y,z):\n",
    "    \"\"\"\n",
    "    function takes in three parameters x,y,z (integers).\n",
    "    Converts them to 32-bit unsigned integers.\n",
    "    Chooses bits from y and z based on the bits of x.\n",
    "    If a bit in x is 1, the corresponding bit from y is chosen.\n",
    "    If a bit in x is 0, the corresponding bit from z is chosen.\n",
    "\n",
    "    Args:\n",
    "        x (int): first integer input\n",
    "        y (int): second integer input\n",
    "        z (int): third integer input\n",
    "\n",
    "    Returns:\n",
    "        32-bit unsigned integer: result of the expression (x & y) ^ (~x & y)\n",
    "\n",
    "    \"\"\"\n",
    "    x = np.uint32(x)\n",
    "    y = np.uint32(y)\n",
    "    z = np.uint32(z)\n",
    "\n",
    "    return np.uint32((x & y) ^ (~x & y))\n",
    "\n",
    "def Majority(x,y,z):\n",
    "    \"\"\"\n",
    "    function takes in three parameters x,y,z (integers).\n",
    "    Converts them to 32-bit unsigned integers.\n",
    "    Returns the majority value among the three inputs.\n",
    "\n",
    "    Args:\n",
    "        x (int): first integer input\n",
    "        y (int): second integer input\n",
    "        z (int): third integer input\n",
    "\n",
    "    Returns:\n",
    "        32-bit unsigned integer: result of the expression (x & y) ^ (x & z) ^ (y & z) \n",
    "        \n",
    "    \"\"\"\n",
    "    x = np.uint32(x)\n",
    "    y = np.uint32(y)\n",
    "    z = np.uint32(z)\n",
    "\n",
    "    return np.uint32((x & y) ^ (x & z) ^ (y & z))\n",
    "\n"
   ]
  },
  {
   "cell_type": "markdown",
   "id": "c35ae95c",
   "metadata": {},
   "source": [
    "Sigma Functions"
   ]
  },
  {
   "cell_type": "code",
   "execution_count": null,
   "id": "d9b9a193",
   "metadata": {},
   "outputs": [],
   "source": [
    "def Sigma0(x):\n",
    "    \"\"\"\n",
    "    function takes in one paramater (integer x)\n",
    "    Converts x to a 32-bit unsigned integer\n",
    "    returns Big Sigma O by using its formula\n",
    "\n",
    "    Args: \n",
    "        x (int): only int value\n",
    "\n",
    "    Return:\n",
    "        a 32-bit unsigned integer: result of (ROTR^2(x) XOR ROTR^13(x) XOR ROTR^22(x))\n",
    "\n",
    "    \"\"\"\n",
    "    x = np.uint32(x)\n",
    "    return np.uint32(\n",
    "        ((x >> 2) | (x << (32 - 2))) ^\n",
    "        ((x >> 13) | (x << (32 - 13))) ^\n",
    "        ((x >> 22) | (x << (32 - 22)))\n",
    "    )\n",
    "\n",
    "def Sigma1(x);\n",
    "    \"\"\"\n",
    "    function takes in one parameter (integer x)\n",
    "    Converts x to a 32-bit unsigned integer\n",
    "    returns Big Sigma 1 by using its formula\n",
    "\n",
    "    Args: \n",
    "        x (int): only int value\n",
    "\n",
    "    Return:\n",
    "        a 32-bit unsigned integer: result of (ROTR^6(x) XOR ROTR^11(x) XOR ROTR^25(x))\n",
    "    \"\"\"\n",
    "\n",
    "    x = np.uint32(x)\n",
    "\n",
    "    return np.uint32(\n",
    "    ((x >> 6) | (x << (32 - 6))) ^\n",
    "    ((x >> 11) | (x << (32 - 11))) ^\n",
    "    ((x >> 25) | (x << (32 - 25)))\n",
    "    )\n",
    "    \n"
   ]
  },
  {
   "cell_type": "markdown",
   "id": "784d2f17",
   "metadata": {},
   "source": [
    "### Problem 2: Fractional Parts of Cube Roots"
   ]
  },
  {
   "cell_type": "code",
   "execution_count": null,
   "id": "6303af32",
   "metadata": {},
   "outputs": [],
   "source": []
  },
  {
   "cell_type": "markdown",
   "id": "3e54e945",
   "metadata": {},
   "source": [
    "### Problem 3: Padding"
   ]
  },
  {
   "cell_type": "code",
   "execution_count": null,
   "id": "5501506e",
   "metadata": {},
   "outputs": [],
   "source": []
  },
  {
   "cell_type": "markdown",
   "id": "9ca831d2",
   "metadata": {},
   "source": [
    "### Problem 4: Hashes"
   ]
  },
  {
   "cell_type": "code",
   "execution_count": null,
   "id": "023d9445",
   "metadata": {},
   "outputs": [],
   "source": []
  },
  {
   "cell_type": "markdown",
   "id": "834c0564",
   "metadata": {},
   "source": [
    "### Problem 5: Passwords"
   ]
  },
  {
   "cell_type": "code",
   "execution_count": null,
   "id": "79f90628",
   "metadata": {},
   "outputs": [],
   "source": []
  }
 ],
 "metadata": {
  "language_info": {
   "name": "python"
  }
 },
 "nbformat": 4,
 "nbformat_minor": 5
}
