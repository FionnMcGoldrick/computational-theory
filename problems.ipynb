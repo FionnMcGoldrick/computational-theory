{
 "cells": [
  {
   "cell_type": "markdown",
   "id": "4362ce2e",
   "metadata": {},
   "source": [
    "# Computation Theory"
   ]
  },
  {
   "cell_type": "code",
   "execution_count": null,
   "id": "5ec5b149",
   "metadata": {},
   "outputs": [],
   "source": [
    "#imports\n",
    "\n",
    "import numpy as np"
   ]
  },
  {
   "cell_type": "markdown",
   "id": "2daa842d",
   "metadata": {},
   "source": [
    "### Problem 1: Binary Words and Operations"
   ]
  },
  {
   "cell_type": "code",
   "execution_count": null,
   "id": "6a24b379",
   "metadata": {},
   "outputs": [],
   "source": [
    "def Parity(x,y,z):\n",
    "    x = np.int32(x)\n",
    "    x = np.int32(y)\n",
    "    x = np.int32(z)\n",
    "\n",
    "    return np.uint32(x ^ y ^ z)"
   ]
  },
  {
   "cell_type": "markdown",
   "id": "784d2f17",
   "metadata": {},
   "source": [
    "### Problem 2: Fractional Parts of Cube Roots"
   ]
  },
  {
   "cell_type": "code",
   "execution_count": null,
   "id": "6303af32",
   "metadata": {},
   "outputs": [],
   "source": []
  },
  {
   "cell_type": "markdown",
   "id": "3e54e945",
   "metadata": {},
   "source": [
    "### Problem 3: Padding"
   ]
  },
  {
   "cell_type": "code",
   "execution_count": null,
   "id": "5501506e",
   "metadata": {},
   "outputs": [],
   "source": []
  },
  {
   "cell_type": "markdown",
   "id": "9ca831d2",
   "metadata": {},
   "source": [
    "### Problem 4: Hashes"
   ]
  },
  {
   "cell_type": "code",
   "execution_count": null,
   "id": "023d9445",
   "metadata": {},
   "outputs": [],
   "source": []
  },
  {
   "cell_type": "markdown",
   "id": "834c0564",
   "metadata": {},
   "source": [
    "### Problem 5: Passwords"
   ]
  },
  {
   "cell_type": "code",
   "execution_count": null,
   "id": "79f90628",
   "metadata": {},
   "outputs": [],
   "source": []
  }
 ],
 "metadata": {
  "language_info": {
   "name": "python"
  }
 },
 "nbformat": 4,
 "nbformat_minor": 5
}
