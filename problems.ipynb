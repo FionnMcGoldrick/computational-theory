{
 "cells": [
  {
   "cell_type": "markdown",
   "id": "4362ce2e",
   "metadata": {},
   "source": [
    "# Computation Theory"
   ]
  },
  {
   "cell_type": "code",
   "execution_count": 1,
   "id": "5ec5b149",
   "metadata": {},
   "outputs": [],
   "source": [
    "#imports\n",
    "\n",
    "import numpy as np"
   ]
  },
  {
   "cell_type": "markdown",
   "id": "2daa842d",
   "metadata": {},
   "source": [
    "### Problem 1: Binary Words and Operations"
   ]
  },
  {
   "cell_type": "markdown",
   "id": "4da58673",
   "metadata": {},
   "source": [
    "# Parity Function Documentation\n",
    "\n",
    "---\n",
    "\n",
    "### Overview\n",
    "The **parity function** is one of the logical functions used in the SHA-1 algorithm. It takes in three 32-bit words and compares their bits to decide the result for each position. Parity looks at each bit of the three inputs and checks if an **odd number of them are 1**. If the number of 1s is odd, the result bit is 1; if it's even, the result bit is 0.\n",
    "\n",
    "### How It Works\n",
    "The parity function works by applying the **XOR operator** to each bit of the three inputs (`x`, `y`, and `z`). XOR returns `1` if the number of `1` bits is **odd**, and `0` if its number of bits is **even**.\n",
    "\n",
    "For exmaple, if we look at a single bit position across `x`, `y`, and `z`:\n",
    "\n",
    "| x | y | z | Result (x ⊕ y ⊕ z) |\n",
    "|:-:|:-:|:-:|:-----------------:|\n",
    "| 0 | 0 | 0 | 0 |\n",
    "| 0 | 0 | 1 | 1 |\n",
    "| 0 | 1 | 0 | 1 |\n",
    "| 0 | 1 | 1 | 0 |\n",
    "| 1 | 0 | 0 | 1 |\n",
    "| 1 | 0 | 1 | 0 |\n",
    "| 1 | 1 | 0 | 0 |\n",
    "| 1 | 1 | 1 | 1 |\n",
    "\n",
    "You can see from the table that the result is `1` whenever **an odd number of inputs are 1**. \n",
    "\n",
    "In Python, this can be done simply by XORing the three values:\n",
    "``x ^ y ^ z``\n",
    "\n",
    "When using 32-bit unsigned integers, this operation is applied to **all 32 bits at once**, producing a new 32-bit result.\n",
    "\n",
    "You can also conclude from the table that the order of either the `1` or `0` bits is not significant in the outcome. This means that the parity function is **commutative**.\n",
    "\n",
    "### Why It's Used\n",
    "\n",
    "The parity function is used in **specific rounds of the SHA-1 algorithm** to combine three different 32-bit values in a balanced way. XOR is useful because it dosen't favour any single input - the output changes if **any one** of the inputs changes.\n",
    "\n",
    "This properly helps SHA-1 achieve **good diffusion**, meaning small changes in the input data quickly spread through the algorithm and affect many bits of the final hash.\n",
    "\n",
    "Parity is also very simple to calculate, which makes it efficient to use repeatedly during the hashing process without slowing things down.\n",
    "\n",
    "### Function Definition\n",
    "\n",
    "Below is the Python implementation of the **parity function**. It takes three 32-bit integers (`x`, `y`, and `z`) and returns their bitwise XOR as a 32-bit unsigned integer. This matches the behavior defined in the SHA-1 standard:\n",
    "\n",
    "```python\n",
    "import numpy as np\n",
    "\n",
    "def Parity(x: int, y: int, z: int) -> np.uint32:\n",
    "    return np.uint32(x ^ y ^ z)"
   ]
  },
  {
   "cell_type": "code",
   "execution_count": 4,
   "id": "6a24b379",
   "metadata": {},
   "outputs": [],
   "source": [
    "def Parity(x,y,z):\n",
    "    \"\"\"\n",
    "    Computes the parity (bitwise XOR) of three 32-bit unsigned integers.\n",
    "\n",
    "    This function takes three integer inputs (x, y, z), converts them into\n",
    "    32-bit unsigned integers to match the behavior expected in the SHA-1\n",
    "    algorithm, and then applies the XOR operation across all 32 bits of\n",
    "    each input. The result is a single 32-bit unsigned integer where each\n",
    "    bit represents the parity of the corresponding bits of x, y, and z.\n",
    "\n",
    "    The parity is 1 if an odd number of the three bits are 1, and 0 if an\n",
    "    even number of the three bits are 1. This operation is commutative\n",
    "    and matches the definition used in the Secure Hash Standard (FIPS 180-4).\n",
    "\n",
    "    Args:\n",
    "        x (int): First integer input.\n",
    "        y (int): Second integer input.\n",
    "        z (int): Third integer input.\n",
    "\n",
    "    Returns:\n",
    "        np.uint32: The bitwise XOR (parity) of x, y, and z as a 32-bit unsigned integer.\n",
    "    \"\"\"\n",
    "    x = np.uint32(x)\n",
    "    y = np.uint32(y)\n",
    "    z = np.uint32(z)\n",
    "\n",
    "    return np.uint32(x ^ y ^ z)"
   ]
  },
  {
   "cell_type": "markdown",
   "id": "4b28a16c",
   "metadata": {},
   "source": [
    "### Testing the Parity Function\n",
    "\n",
    "To make sure the `Parity` function works correctly, we can test it with a few simple inputs where we can easily calculate the expected result by hand.\n",
    "\n",
    "For example:\n",
    "\n",
    "- If all three inputs are `0`, the result should be `0` because no bits are set.  \n",
    "- If one input is `1` and the others are `0`, the result should be `1`.  \n",
    "- If two inputs are `1`, the result should be `0` (because 2 is even).  \n",
    "- If all three inputs are `1`, the result should be `1` (because 3 is odd).\n",
    "\n",
    "### Test Cases:\n",
    "---"
   ]
  },
  {
   "cell_type": "code",
   "execution_count": null,
   "id": "9bacc8da",
   "metadata": {},
   "outputs": [
    {
     "name": "stdout",
     "output_type": "stream",
     "text": [
      "Parity(0, 0, 0) = 0\n",
      "Parity(1, 0, 0) = 1\n",
      "Parity(1, 1, 0) = 0\n",
      "Parity(1, 1, 1) = 1\n",
      "Parity(10, 12, 6) = 0\n",
      "Parity(4294967295, 0, 4294967295) = 0\n"
     ]
    }
   ],
   "source": [
    "test_cases = [\n",
    "    (0, 0, 0),  # Expected: 0\n",
    "    (1, 0, 0),  # Expected: 1\n",
    "    (1, 1, 0),  # Expected: 0\n",
    "    (1, 1, 1),  # Expected: 1\n",
    "    (0b1010, 0b1100, 0b0110),  # Expected 0\n",
    "    (0xFFFFFFFF, 0x00000000, 0xFFFFFFFF),  # Expected: 0 \n",
    "]\n",
    "\n",
    "for x, y, z in test_cases:\n",
    "    result = Parity(x,y,z)\n",
    "    print(f\"Parity({x}, {y}, {z}) = {result}\")"
   ]
  },
  {
   "cell_type": "markdown",
   "id": "16154c7c",
   "metadata": {},
   "source": [
    "### Expected Results\n",
    "\n",
    "- `Parity(0, 0, 0)` → `0`  \n",
    "- `Parity(1, 0, 0)` → `1`  \n",
    "- `Parity(1, 1, 0)` → `0`  \n",
    "- `Parity(1, 1, 1)` → `1`  \n",
    "- `Parity(0b1010, 0b1100, 0b0110)` → `0`  \n",
    "- `Parity(0xFFFFFFFF, 0x00000000, 0xFFFFFFFF)` → `0`\n",
    "\n",
    "These tests confirm that the function behaves exactly as expected, matching the bitwise XOR logic defined in the SHA-1 specification.\n"
   ]
  },
  {
   "cell_type": "code",
   "execution_count": null,
   "id": "0233ce1b",
   "metadata": {},
   "outputs": [],
   "source": [
    "def Choose(x,y,z):\n",
    "    \"\"\"\n",
    "    function takes in three parameters x,y,z (integers).\n",
    "    Converts them to 32-bit unsigned integers.\n",
    "    Chooses bits from y and z based on the bits of x.\n",
    "    If a bit in x is 1, the corresponding bit from y is chosen.\n",
    "    If a bit in x is 0, the corresponding bit from z is chosen.\n",
    "\n",
    "    Args:\n",
    "        x (int): first integer input\n",
    "        y (int): second integer input\n",
    "        z (int): third integer input\n",
    "\n",
    "    Returns:\n",
    "        32-bit unsigned integer: result of the expression (x & y) ^ (~x & y)\n",
    "\n",
    "    \"\"\"\n",
    "    x = np.uint32(x)\n",
    "    y = np.uint32(y)\n",
    "    z = np.uint32(z)\n",
    "\n",
    "    return np.uint32((x & y) ^ (~x & y))"
   ]
  },
  {
   "cell_type": "code",
   "execution_count": null,
   "id": "1092411f",
   "metadata": {},
   "outputs": [],
   "source": [
    "def Majority(x,y,z):\n",
    "    \"\"\"\n",
    "    function takes in three parameters x,y,z (integers).\n",
    "    Converts them to 32-bit unsigned integers.\n",
    "    Returns the majority value among the three inputs.\n",
    "\n",
    "    Args:\n",
    "        x (int): first integer input\n",
    "        y (int): second integer input\n",
    "        z (int): third integer input\n",
    "\n",
    "    Returns:\n",
    "        32-bit unsigned integer: result of the expression (x & y) ^ (x & z) ^ (y & z) \n",
    "        \n",
    "    \"\"\"\n",
    "    x = np.uint32(x)\n",
    "    y = np.uint32(y)\n",
    "    z = np.uint32(z)\n",
    "\n",
    "    return np.uint32((x & y) ^ (x & z) ^ (y & z))"
   ]
  },
  {
   "cell_type": "markdown",
   "id": "c35ae95c",
   "metadata": {},
   "source": [
    "Sigma Functions"
   ]
  },
  {
   "cell_type": "code",
   "execution_count": null,
   "id": "d9b9a193",
   "metadata": {},
   "outputs": [],
   "source": [
    "def Sigma0(x):\n",
    "    \"\"\"\n",
    "    function takes in one paramater (integer x)\n",
    "    Converts x to a 32-bit unsigned integer\n",
    "    returns Big Sigma O by using its formula\n",
    "\n",
    "    Args: \n",
    "        x (int): only int value\n",
    "\n",
    "    Return:\n",
    "        a 32-bit unsigned integer: result of (ROTR^2(x) XOR ROTR^13(x) XOR ROTR^22(x))\n",
    "\n",
    "    \"\"\"\n",
    "    x = np.uint32(x)\n",
    "    return np.uint32(\n",
    "        ((x >> 2) | (x << (32 - 2))) ^\n",
    "        ((x >> 13) | (x << (32 - 13))) ^\n",
    "        ((x >> 22) | (x << (32 - 22)))\n",
    "    )\n",
    "\n",
    "def Sigma1(x):\n",
    "    \"\"\"\n",
    "    function takes in one parameter (integer x)\n",
    "    Converts x to a 32-bit unsigned integer\n",
    "    returns Big Sigma 1 by using its formula\n",
    "\n",
    "    Args: \n",
    "        x (int): only int value\n",
    "\n",
    "    Return:\n",
    "        a 32-bit unsigned integer: result of (ROTR^6(x) XOR ROTR^11(x) XOR ROTR^25(x))\n",
    "\n",
    "    \"\"\"\n",
    "    x = np.uint32(x)\n",
    "\n",
    "    return np.uint32(\n",
    "    ((x >> 6) | (x << (32 - 6))) ^\n",
    "    ((x >> 11) | (x << (32 - 11))) ^\n",
    "    ((x >> 25) | (x << (32 - 25)))\n",
    "    )\n",
    "\n",
    "def sigma0(x):\n",
    "    \"\"\"\n",
    "    function takes in one parameter (integer x)\n",
    "    Converts x to a 32-bit unsigned integer\n",
    "    returns Small Sigma 0 by using its formula\n",
    "\n",
    "    Args: \n",
    "        x (int): only int value\n",
    "\n",
    "    Return:\n",
    "        a 32-bit unsigned integer: result of (ROTR^7(x) XOR ROTR^18(x) XOR SHR^3(x))\n",
    "\n",
    "    \"\"\"\n",
    "    x = np.uint32(x)\n",
    "\n",
    "    return(\n",
    "        ((x >> 7) | x << ((32 - 7))) ^\n",
    "        ((x >> 18) | x << ((32 - 18))) ^\n",
    "        ((x >> 3))\n",
    "    )\n",
    "\n",
    "def small_sigma1(x):\n",
    "    \"\"\"\n",
    "\n",
    "    function takes in one parameter (integer x)\n",
    "    Converts x to a 32-bit unsigned integer\n",
    "    returns Small Sigma 1 by using its formula\n",
    "\n",
    "    Args:\n",
    "        x (int): only int value\n",
    "\n",
    "    Return:\n",
    "        a 32-bit unsigned integer: result of (ROTR^17(x) XOR ROTR^19(x) XOR SHR^10(x))\n",
    "    \"\"\"\n",
    "    \n",
    "    x = np.uint32(x)\n",
    "    return np.uint32(\n",
    "        ((x >> 17) | (x << (32 - 17))) ^\n",
    "        ((x >> 19) | (x << (32 - 19))) ^\n",
    "        (x >> 10)\n",
    "    )\n",
    "    \n"
   ]
  },
  {
   "cell_type": "markdown",
   "id": "784d2f17",
   "metadata": {},
   "source": [
    "### Problem 2: Fractional Parts of Cube Roots"
   ]
  },
  {
   "cell_type": "code",
   "execution_count": null,
   "id": "6303af32",
   "metadata": {},
   "outputs": [],
   "source": []
  },
  {
   "cell_type": "markdown",
   "id": "3e54e945",
   "metadata": {},
   "source": [
    "### Problem 3: Padding"
   ]
  },
  {
   "cell_type": "code",
   "execution_count": null,
   "id": "5501506e",
   "metadata": {},
   "outputs": [],
   "source": []
  },
  {
   "cell_type": "markdown",
   "id": "9ca831d2",
   "metadata": {},
   "source": [
    "### Problem 4: Hashes"
   ]
  },
  {
   "cell_type": "code",
   "execution_count": null,
   "id": "023d9445",
   "metadata": {},
   "outputs": [],
   "source": []
  },
  {
   "cell_type": "markdown",
   "id": "834c0564",
   "metadata": {},
   "source": [
    "### Problem 5: Passwords"
   ]
  },
  {
   "cell_type": "code",
   "execution_count": null,
   "id": "79f90628",
   "metadata": {},
   "outputs": [],
   "source": []
  }
 ],
 "metadata": {
  "kernelspec": {
   "display_name": ".venv (3.13.7)",
   "language": "python",
   "name": "python3"
  },
  "language_info": {
   "codemirror_mode": {
    "name": "ipython",
    "version": 3
   },
   "file_extension": ".py",
   "mimetype": "text/x-python",
   "name": "python",
   "nbconvert_exporter": "python",
   "pygments_lexer": "ipython3",
   "version": "3.13.7"
  }
 },
 "nbformat": 4,
 "nbformat_minor": 5
}
